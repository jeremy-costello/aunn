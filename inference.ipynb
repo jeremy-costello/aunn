{
 "cells": [
  {
   "cell_type": "code",
   "execution_count": 31,
   "metadata": {},
   "outputs": [],
   "source": [
    "import torch\n",
    "import torch.nn.functional as F\n",
    "\n",
    "from model import MLP\n",
    "from vocab import get_vocab"
   ]
  },
  {
   "cell_type": "code",
   "execution_count": 126,
   "metadata": {},
   "outputs": [],
   "source": [
    "TEXT_FILE = \"./data/names.txt\"\n",
    "MODEL_FILE = \"./models/1704743300/epoch_103.ckpt\"\n",
    "EOT_TOKEN = \"<|endoftext|>\"\n",
    "LATENT_SIZE = 8\n",
    "HIDDEN_SIZE = 64\n",
    "NUM_LAYERS = 2"
   ]
  },
  {
   "cell_type": "code",
   "execution_count": 127,
   "metadata": {},
   "outputs": [],
   "source": [
    "with open(TEXT_FILE, \"r\") as f:\n",
    "    text_data = [line.strip() for line in f.readlines()]\n",
    "\n",
    "vocab_dict, vocab_size = get_vocab(text_data, EOT_TOKEN)"
   ]
  },
  {
   "cell_type": "code",
   "execution_count": 128,
   "metadata": {},
   "outputs": [],
   "source": [
    "model = MLP(input_size=1,\n",
    "            latent_size=LATENT_SIZE,\n",
    "            hidden_size=HIDDEN_SIZE,\n",
    "            num_layers=NUM_LAYERS,\n",
    "            output_size=vocab_size).to(\"cuda\")"
   ]
  },
  {
   "cell_type": "code",
   "execution_count": 129,
   "metadata": {},
   "outputs": [
    {
     "data": {
      "text/plain": [
       "<All keys matched successfully>"
      ]
     },
     "execution_count": 129,
     "metadata": {},
     "output_type": "execute_result"
    }
   ],
   "source": [
    "model.load_state_dict(torch.load(MODEL_FILE))"
   ]
  },
  {
   "cell_type": "code",
   "execution_count": 130,
   "metadata": {},
   "outputs": [
    {
     "data": {
      "text/plain": [
       "6891"
      ]
     },
     "execution_count": 130,
     "metadata": {},
     "output_type": "execute_result"
    }
   ],
   "source": [
    "parameters = sum(p.numel() for p in model.parameters())\n",
    "parameters"
   ]
  },
  {
   "cell_type": "code",
   "execution_count": 143,
   "metadata": {},
   "outputs": [
    {
     "data": {
      "text/plain": [
       "'toaa'"
      ]
     },
     "execution_count": 143,
     "metadata": {},
     "output_type": "execute_result"
    }
   ],
   "source": [
    "temperature = 1.0\n",
    "\n",
    "input = 0\n",
    "name = \"\"\n",
    "latent = torch.randn(LATENT_SIZE).to(\"cuda\")\n",
    "\n",
    "while True:\n",
    "    tensor_input = torch.tensor(input, dtype=torch.float32).to(\"cuda\").view(-1, 1)\n",
    "    \n",
    "    output = model(\n",
    "        x=tensor_input,\n",
    "        latent=latent\n",
    "    )\n",
    "    output = F.softmax(output / temperature, dim=-1)\n",
    "    index = output.multinomial(num_samples=1, replacement=True).item()\n",
    "    if index == vocab_size - 1:\n",
    "        break\n",
    "    letter = vocab_dict[\"id2letter\"][index]\n",
    "    name += letter\n",
    "    input += 1\n",
    "\n",
    "name"
   ]
  },
  {
   "cell_type": "code",
   "execution_count": null,
   "metadata": {},
   "outputs": [],
   "source": []
  }
 ],
 "metadata": {
  "kernelspec": {
   "display_name": "gan",
   "language": "python",
   "name": "python3"
  },
  "language_info": {
   "codemirror_mode": {
    "name": "ipython",
    "version": 3
   },
   "file_extension": ".py",
   "mimetype": "text/x-python",
   "name": "python",
   "nbconvert_exporter": "python",
   "pygments_lexer": "ipython3",
   "version": "3.11.5"
  }
 },
 "nbformat": 4,
 "nbformat_minor": 2
}
